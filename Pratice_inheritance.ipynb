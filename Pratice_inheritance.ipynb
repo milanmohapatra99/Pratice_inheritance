{
 "cells": [
  {
   "cell_type": "markdown",
   "id": "01c26a5e",
   "metadata": {},
   "source": [
    "Create a class c-2d vector and use it to create another class representing a 3-d vector."
   ]
  },
  {
   "cell_type": "code",
   "execution_count": 4,
   "id": "093f7d68",
   "metadata": {},
   "outputs": [
    {
     "name": "stdout",
     "output_type": "stream",
     "text": [
      "2i + 3j\n",
      "2i + 9j + 7k\n"
     ]
    }
   ],
   "source": [
    "class C2dVec:\n",
    "    def __init__(self, i, j):\n",
    "        self.icap = i\n",
    "        self.jcap = j\n",
    "\n",
    "    def __str__(self):\n",
    "        return f\"{self.icap}i + {self.jcap}j\"\n",
    "\n",
    "class C3dVec(C2dVec):\n",
    "    def __init__(self, i, j, k):\n",
    "        super().__init__(i, j)\n",
    "        self.kcap = k\n",
    "    \n",
    "    def __str__(self):\n",
    "        return f\"{self.icap}i + {self.jcap}j + {self.kcap}k\"\n",
    "    \n",
    "    \n",
    "v2d = C2dVec(2, 3)\n",
    "v3d = C3dVec(2, 9, 7)\n",
    "print(v2d)\n",
    "print(v3d)\n"
   ]
  },
  {
   "cell_type": "code",
   "execution_count": null,
   "id": "7eecec13",
   "metadata": {},
   "outputs": [],
   "source": []
  }
 ],
 "metadata": {
  "kernelspec": {
   "display_name": "Python 3 (ipykernel)",
   "language": "python",
   "name": "python3"
  },
  "language_info": {
   "codemirror_mode": {
    "name": "ipython",
    "version": 3
   },
   "file_extension": ".py",
   "mimetype": "text/x-python",
   "name": "python",
   "nbconvert_exporter": "python",
   "pygments_lexer": "ipython3",
   "version": "3.9.7"
  }
 },
 "nbformat": 4,
 "nbformat_minor": 5
}
